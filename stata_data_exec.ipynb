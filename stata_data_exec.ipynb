{
 "cells": [
  {
   "cell_type": "code",
   "execution_count": 1,
   "metadata": {},
   "outputs": [],
   "source": [
    "from stata_dta import open_dta, Dta115, Dta117\n",
    "file_path = \"test_data/98_13.dta\"\n",
    "save_file_path = \"test_data/09_13_35.dta\""
   ]
  },
  {
   "cell_type": "code",
   "execution_count": 2,
   "metadata": {},
   "outputs": [
    {
     "name": "stdout",
     "output_type": "stream",
     "text": [
      "文档版本号： 118\n",
      "数据大小端格式： 小端\n",
      "变量个数:  136\n",
      "数据行数:  6725518\n",
      "数据标签:  \n",
      "时间戳:  15 Jul 2016 08:19\n",
      "各块信息的起始文件指针位置: (0, 158, 281, 586, 18151, 18446, 26217, 43800, 87491, 102666, 9193885785, 9193885800, 9193885829, 9193885841)\n",
      "类型列表(136): [65529, 65527, 65527, 10, 110, 89, 12, 13, 9, 362, 4, 2, 8, 4, 2, 65529, 65530, 4, 1, 4, 3, 4, 3, 3, 3, 3, 3, 2, 2, 65526, 65528, 65526, 65528, 65526, 65526, 65528, 65526, 65526, 65526, 65526, 65528, 65528, 65526, 65526, 65528, 65526, 65526, 65528, 65528, 65528, 65526, 65526, 65526, 65526, 65526, 65526, 65526, 65528, 65526, 65526, 65526, 65526, 65526, 65526, 65526, 65526, 65528, 65526, 65526, 65526, 65528, 65528, 65526, 65526, 65526, 65526, 65526, 65528, 65528, 65526, 65528, 65526, 65528, 65528, 65528, 65526, 65526, 65526, 65528, 65527, 65527, 65528, 74, 65530, 65529, 65526, 65528, 65528, 65526, 65528, 65526, 65526, 65528, 65528, 65528, 65526, 65526, 65526, 65528, 65528, 65528, 65528, 65528, 65528, 65528, 65526, 65528, 65528, 65528, 7, 65528, 65528, 65528, 65528, 65528, 65528, 65528, 65528, 65528, 65528, 1, 1, 65526, 65526, 65526, 65528]\n",
      "变量列表(136): ['year', 'panel_id', 'id_in_source', 'id', 'name', 'legal_person', 'region', 'phone', 'zip', 'product1_', 'cic', 'accounting_system', 'registration_type', 'state_owned_holdings', 'affiliation', 'bdat', 'bdat_month', 'business_status', 'construction_level', 'industrial_units', 'agriculture', 'industry', 'construction_industry', 'transportation_industry', 'wholesale_and_retail_trade', 'catering', 'other', 'business_scale', 'light_and_heavy_industry', 'employment', 'gross_output_constant', 'gross_output_current', 'new_product_output_value', 'industrial_sales_output', 'export_delivery_value', 'industrial_added_value', 'total_current_assets', 'net_receivables', 'stock', 'finished_product', 'balance_of_current_assets', 'long_term_investment', 'net_total_fixed_assets', 'total_fixed_assets', 'for_production', 'accumulated_depreciation', 'depreciation_this_year', 'balance_of_fixed_assets', 'intangible_deferred_assets', 'intangible_assets', 'total_assets', 'current_liabilities', 'long_term_liabilities', 'total_liabilities', 'owner_equity', 'paid_in_capital', 'national_capital', 'collective_capital', 'corporate_capital', 'personal_capital', 'hkmt_capital', 'foreign_capital', 'main_business_revenue', 'main_business_cost', 'product_sales_fee', 'main_business_tax', 'product_sales_profit', 'other_business_profits', 'management_costs', 'managerial_tax', 'property_insurance', 'labor_insurance', 'financial_expenses', 'interest_expense', 'operating_profit', 'subsidy_income', 'total_profit', 'total_loss', 'total_tax', 'income_tax_payable', 'payable_profit', 'payroll_payable', 'main_business_wages', 'welfare_payable', 'main_business_welfare', 'vat', 'input_tax', 'output_tax', 'intermediate_input', 'revenue', 'profit', 'tax_processing', 'registration_number', 'real_estate_industry', 'other_industry', 'operating_income', 'liquid_assets', 'short_term_investments', 'accounts_payable', 'other_income', 'travel_expenses', 'union_funds', 'office_fee', 'staff_education_fee', 'sewage_charges', 'investment_income', 'non_operating_income', 'non_operating_expenses', 'advertising_fee', 'labor_insurance_premium', 'pension_insurance', 'housing_accumulation', 'direct_material', 'manu_cost_investment', 'management_fee_input', 'operating_expenses', 'cash_from_operations', 'cash_from_investment', 'cash_from_financing', 'employment_female', 'rnd_cost', 'unemployment_insurance', 'operating_inter_input', 'operating_cash_in', 'operating_cash_out', 'investment_cash', 'investment_cash_out', 'financing_cash', 'financing_cash_out', 'current_assets', 'organization_type', 'light_heavy_industry', 'operating_tax', 'interest_income', 'asset_impairment_loss', 'changes_in_fair_value']\n",
      "顺序列表(136): [None, None, None, None, None, None, None, None, None, None, None, None, None, None, None, None, None, None, None, None, None, None, None, None, None, None, None, None, None, None, None, None, None, None, None, None, None, None, None, None, None, None, None, None, None, None, None, None, None, None, None, None, None, None, None, None, None, None, None, None, None, None, None, None, None, None, None, None, None, None, None, None, None, None, None, None, None, None, None, None, None, None, None, None, None, None, None, None, None, None, None, None, None, None, None, None, None, None, None, None, None, None, None, None, None, None, None, None, None, None, None, None, None, None, None, None, None, None, None, None, None, None, None, None, None, None, None, None, None, None, None, None, None, None, None, None]\n",
      "格式列表(136): ['%9.0g', '%9.0g', '%9.0g', '%10s', '%110s', '%89s', '%12s', '%13s', '%9s', '%362s', '%9s', '%9s', '%9s', '%9s', '%9s', '%10.0g', '%10.0g', '%9s', '%9s', '%9s', '%9s', '%9s', '%9s', '%9s', '%9s', '%9s', '%9s', '%9s', '%9s', '%10.0g', '%10.0g', '%10.0g', '%10.0g', '%10.0g', '%10.0g', '%10.0g', '%10.0g', '%10.0g', '%10.0g', '%10.0g', '%10.0g', '%10.0g', '%10.0g', '%10.0g', '%10.0g', '%10.0g', '%10.0g', '%10.0g', '%10.0g', '%10.0g', '%10.0g', '%10.0g', '%10.0g', '%10.0g', '%10.0g', '%10.0g', '%10.0g', '%10.0g', '%10.0g', '%10.0g', '%10.0g', '%10.0g', '%10.0g', '%10.0g', '%10.0g', '%10.0g', '%10.0g', '%10.0g', '%10.0g', '%10.0g', '%10.0g', '%10.0g', '%10.0g', '%10.0g', '%10.0g', '%10.0g', '%10.0g', '%10.0g', '%10.0g', '%10.0g', '%10.0g', '%10.0g', '%10.0g', '%10.0g', '%10.0g', '%10.0g', '%10.0g', '%10.0g', '%10.0g', '%9.0g', '%9.0g', '%10.0g', '%74s', '%10.0g', '%10.0g', '%10.0g', '%10.0g', '%10.0g', '%10.0g', '%10.0g', '%10.0g', '%10.0g', '%10.0g', '%10.0g', '%10.0g', '%10.0g', '%10.0g', '%10.0g', '%10.0g', '%10.0g', '%10.0g', '%10.0g', '%10.0g', '%10.0g', '%10.0g', '%10.0g', '%10.0g', '%10.0g', '%10.0g', '%9s', '%10.0g', '%10.0g', '%10.0g', '%10.0g', '%10.0g', '%10.0g', '%10.0g', '%10.0g', '%10.0g', '%10.0g', '%9s', '%9s', '%10.0g', '%10.0g', '%10.0g', '%12.0g']\n",
      "变量标签名列表(136): ['', '', '', '', '', '', '', '', '', '', '', '', '', '', '', '', '', '', '', '', '', '', '', '', '', '', '', '', '', '', '', '', '', '', '', '', '', '', '', '', '', '', '', '', '', '', '', '', '', '', '', '', '', '', '', '', '', '', '', '', '', '', '', '', '', '', '', '', '', '', '', '', '', '', '', '', '', '', '', '', '', '', '', '', '', '', '', '', '', '', '', '', '', '', '', '', '', '', '', '', '', '', '', '', '', '', '', '', '', '', '', '', '', '', '', '', '', '', '', '', '', '', '', '', '', '', '', '', '', '', '', '', '', '', '', '']\n",
      "变量标签列表(136): ['', '', '', '', '', '', '', '', '', '', '', '', '', '', '', '', '', '', '', '', '', '', '', '', '', '', '', '', '', '', '', '', '', '', '', '', '', '', '', '', '', '', '', '', '', '', '', '', '', '', '', '', '', '', '', '', '', '', '', '', '', '', '', '', '', '', '', '', '', '', '', '', '', '', '', '', '', '', '', '', '', '', '', '', '', '', '', '', '', '', '', '', '', '', '', '', '', '', '', '', '', '', '', '', '', '', '', '', '', '', '', '', '', '', '', '', '', '', '', '', '', '', '', '', '', '', '', '', '', '', '', '', '', '', '', '']\n",
      "个性设置(23): {'accounting_system': {'tostring': 'converted to string', 'destring': 'Characters removed were:', 'destring_cmd': 'destring bdat_year bdat_month accounting_system organization_type business_status, replace force'}, 'business_status': {'tostring': 'converted to string', 'destring': 'Characters removed were:', 'destring_cmd': 'destring bdat_year bdat_month accounting_system organization_type business_status, replace force'}, 'bdat_month': {'tostring': 'converted to string', 'destring': 'Characters removed were:', 'destring_cmd': 'destring bdat_year bdat_month accounting_system organization_type business_status, replace force'}, 'bdat': {'tostring': 'converted to string', 'destring': 'Characters removed were:', 'destring_cmd': 'destring bdat employment profit,replace force'}, 'affiliation': {'tostring': 'converted to string', 'destring_cmd': 'destring area_code telephone_number extension fax_number fax_extension_1 zip cic organ_level  registration_type state_owned_holdings affiliation, replace force', 'destring': 'Characters removed were:'}, 'state_owned_holdings': {'tostring': 'converted to string', 'destring_cmd': 'destring area_code telephone_number extension fax_number fax_extension_1 zip cic organ_level  registration_type state_owned_holdings affiliation, replace force', 'destring': 'Characters removed were:'}, 'registration_type': {'tostring': 'converted to string', 'destring_cmd': 'destring area_code telephone_number extension fax_number fax_extension_1 zip cic organ_level  registration_type state_owned_holdings affiliation, replace force', 'destring': 'Characters removed were:'}, 'zip': {'tostring': 'converted to string', 'destring_cmd': 'destring area_code telephone_number extension fax_number fax_extension_1 zip cic organ_level  registration_type state_owned_holdings affiliation, replace force', 'destring': 'Characters removed were:'}, 'phone': {'tostring': 'converted to string', 'destring_cmd': 'destring area_code telephone_number extension fax_number fax_extension_1 zip cic organ_level  registration_type state_owned_holdings affiliation, replace force', 'destring': 'Characters removed were:'}, 'cic': {'destring_cmd': 'destring area_code telephone_number extension fax_number fax_extension_1 zip cic organ_level  registration_type state_owned_holdings affiliation, replace force', 'destring': 'Characters removed were:', 'tostring': 'converted to string'}, 'gross_output_current': {'tostring': 'converted to string'}, 'total_assets': {'destring_cmd': 'destring employment_female operating_income main_business_revenue total_assets, replace force', 'destring': 'Characters removed were:'}, 'main_business_revenue': {'destring_cmd': 'destring employment_female operating_income main_business_revenue total_assets, replace force', 'destring': 'Characters removed were:'}, 'operating_income': {'destring_cmd': 'destring employment_female operating_income main_business_revenue total_assets, replace force', 'destring': 'Characters removed were:'}, 'employment_female': {'destring_cmd': 'destring employment_female operating_income main_business_revenue total_assets, replace force', 'destring': 'Characters removed were:'}, 'industrial_units': {'tostring': 'converted to string'}, 'agriculture': {'tostring': 'converted to string'}, 'industry': {'tostring': 'converted to string'}, 'construction_industry': {'tostring': 'converted to string'}, 'transportation_industry': {'tostring': 'converted to string'}, 'wholesale_and_retail_trade': {'tostring': 'converted to string'}, 'catering': {'tostring': 'converted to string'}, 'other': {'tostring': 'converted to string'}}\n"
     ]
    }
   ],
   "source": [
    "dta = open_dta(file_path)"
   ]
  },
  {
   "cell_type": "code",
   "execution_count": 3,
   "metadata": {},
   "outputs": [
    {
     "name": "stdout",
     "output_type": "stream",
     "text": [
      "需要获取的变量(35):\n",
      "['year', 'panel_id', 'id_in_source', 'id', 'name', 'legal_person', 'region', 'agriculture', 'industry', 'construction_industry', 'transportation_industry', 'catering', 'other', 'business_scale', 'light_and_heavy_industry', 'gross_output_constant', 'gross_output_current', 'net_total_fixed_assets', 'total_fixed_assets', 'accumulated_depreciation', 'depreciation_this_year', 'paid_in_capital', 'national_capital', 'collective_capital', 'corporate_capital', 'personal_capital', 'hkmt_capital', 'foreign_capital', 'main_business_revenue', 'main_business_cost', 'operating_profit', 'payable_profit', 'payroll_payable', 'welfare_payable', 'light_heavy_industry']\n",
      "[0, 1, 2, 3, 4, 5, 6, 20, 21, 22, 23, 25, 26, 27, 28, 30, 31, 42, 43, 45, 46, 55, 56, 57, 58, 59, 60, 61, 62, 63, 74, 80, 81, 83, 131]\n",
      "reading year: 2009  file_ptr: 5160546810  _nobs: 3775014\n",
      "reading year: 2010  file_ptr: 5988776568  _nobs: 4380888\n",
      "reading year: 2011  file_ptr: 7099865966  _nobs: 5193682\n",
      "reading year: 2012  file_ptr: 8070859736  _nobs: 5903992\n",
      "reading year: 2013  file_ptr: 8709833812  _nobs: 6371420\n"
     ]
    }
   ],
   "source": [
    "vars_to_get = ['year', 'panel_id', 'id_in_source', 'id', 'name', 'legal_person', 'region','agriculture', 'industry', 'construction_industry', 'transportation_industry',  'catering', 'other', 'business_scale', 'light_and_heavy_industry',  'gross_output_constant', 'gross_output_current',  'net_total_fixed_assets', 'total_fixed_assets',  'accumulated_depreciation', 'depreciation_this_year',  'paid_in_capital', 'national_capital', 'collective_capital', 'corporate_capital', 'personal_capital', 'hkmt_capital', 'foreign_capital', 'main_business_revenue', 'main_business_cost',  'operating_profit','payable_profit', 'payroll_payable', 'welfare_payable',  'light_heavy_industry']\n",
    "data = dta.get_year_data_as_list(file_path, 2009, 2015, vars_to_get)"
   ]
  },
  {
   "cell_type": "code",
   "execution_count": 4,
   "metadata": {},
   "outputs": [
    {
     "name": "stdout",
     "output_type": "stream",
     "text": [
      "2950504\n",
      "35\n",
      "35 2950504\n"
     ]
    }
   ],
   "source": [
    "print(len(dta._varvals))\n",
    "print(len(dta._typlist_to_save))\n",
    "print(dta._nvar_to_save, dta._nobs_to_save)"
   ]
  },
  {
   "cell_type": "code",
   "execution_count": 5,
   "metadata": {},
   "outputs": [
    {
     "name": "stdout",
     "output_type": "stream",
     "text": [
      "Saving to  F:/BaiduNetDiskDownload/文彬数据/09_13.dta\n",
      "Save Success!\n"
     ]
    }
   ],
   "source": [
    "dta._dta_obj_to_file(save_file_path)"
   ]
  },
  {
   "cell_type": "code",
   "execution_count": 6,
   "metadata": {},
   "outputs": [
    {
     "name": "stdout",
     "output_type": "stream",
     "text": [
      "文档版本号： 118\n",
      "数据大小端格式： 小端\n",
      "变量个数:  35\n",
      "数据行数:  2950504\n",
      "数据标签:  \n",
      "时间戳:  15 Jul 2016 08:19\n",
      "各块信息的起始文件指针位置: (0, 158, 281, 384, 4920, 5013, 7027, 11581, 22851, 25584, 1153672661, 1153672676, 1153672705, 1153672717)\n",
      "类型列表(35): [65529, 65527, 65527, 10, 110, 89, 12, 3, 4, 3, 3, 3, 3, 2, 2, 65528, 65526, 65526, 65526, 65526, 65526, 65526, 65526, 65528, 65526, 65526, 65526, 65526, 65526, 65526, 65526, 65528, 65526, 65528, 1]\n",
      "变量列表(35): ['year', 'panel_id', 'id_in_source', 'id', 'name', 'legal_person', 'region', 'agriculture', 'industry', 'construction_industry', 'transportation_industry', 'catering', 'other', 'business_scale', 'light_and_heavy_industry', 'gross_output_constant', 'gross_output_current', 'net_total_fixed_assets', 'total_fixed_assets', 'accumulated_depreciation', 'depreciation_this_year', 'paid_in_capital', 'national_capital', 'collective_capital', 'corporate_capital', 'personal_capital', 'hkmt_capital', 'foreign_capital', 'main_business_revenue', 'main_business_cost', 'operating_profit', 'payable_profit', 'payroll_payable', 'welfare_payable', 'light_heavy_industry']\n",
      "顺序列表(35): [None, None, None, None, None, None, None, None, None, None, None, None, None, None, None, None, None, None, None, None, None, None, None, None, None, None, None, None, None, None, None, None, None, None, None]\n",
      "格式列表(35): ['%9.0g', '%9.0g', '%9.0g', '%10s', '%110s', '%89s', '%12s', '%9s', '%9s', '%9s', '%9s', '%9s', '%9s', '%9s', '%9s', '%10.0g', '%10.0g', '%10.0g', '%10.0g', '%10.0g', '%10.0g', '%10.0g', '%10.0g', '%10.0g', '%10.0g', '%10.0g', '%10.0g', '%10.0g', '%10.0g', '%10.0g', '%10.0g', '%10.0g', '%10.0g', '%10.0g', '%9s']\n",
      "变量标签名列表(35): ['', '', '', '', '', '', '', '', '', '', '', '', '', '', '', '', '', '', '', '', '', '', '', '', '', '', '', '', '', '', '', '', '', '', '']\n",
      "变量标签列表(35): ['', '', '', '', '', '', '', '', '', '', '', '', '', '', '', '', '', '', '', '', '', '', '', '', '', '', '', '', '', '', '', '', '', '', '']\n",
      "个性设置(8): {'gross_output_current': {'tostring': 'converted to string'}, 'main_business_revenue': {'destring_cmd': 'destring employment_female operating_income main_business_revenue total_assets, replace force', 'destring': 'Characters removed were:'}, 'agriculture': {'tostring': 'converted to string'}, 'industry': {'tostring': 'converted to string'}, 'construction_industry': {'tostring': 'converted to string'}, 'transportation_industry': {'tostring': 'converted to string'}, 'catering': {'tostring': 'converted to string'}, 'other': {'tostring': 'converted to string'}}\n"
     ]
    }
   ],
   "source": [
    "dta_saved = open_dta(save_file_path)"
   ]
  },
  {
   "cell_type": "code",
   "execution_count": null,
   "metadata": {},
   "outputs": [],
   "source": []
  }
 ],
 "metadata": {
  "kernelspec": {
   "display_name": "Python 3",
   "language": "python",
   "name": "python3"
  },
  "language_info": {
   "codemirror_mode": {
    "name": "ipython",
    "version": 3
   },
   "file_extension": ".py",
   "mimetype": "text/x-python",
   "name": "python",
   "nbconvert_exporter": "python",
   "pygments_lexer": "ipython3",
   "version": "3.8.1"
  }
 },
 "nbformat": 4,
 "nbformat_minor": 2
}
